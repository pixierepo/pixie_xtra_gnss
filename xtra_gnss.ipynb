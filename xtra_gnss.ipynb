{
 "cells": [
  {
   "cell_type": "code",
   "execution_count": 4,
   "metadata": {},
   "outputs": [],
   "source": [
    "import serial\n",
    "import time\n",
    "import re\n",
    "from datetime import datetime\n",
    "import subprocess\n",
    "import os\n",
    "import urllib"
   ]
  },
  {
   "cell_type": "code",
   "execution_count": 5,
   "metadata": {},
   "outputs": [],
   "source": [
    "#Generic AT\n",
    "CR = '\\r\\n'\n",
    "ENABLE_AT='ATE1'\n",
    "\n",
    "#Filesystem AT commands\n",
    "UPLOAD_FILE='AT+QFUPL'\n",
    "DELETE_FILE='AT+QFDEL'\n",
    "LIST_FILES='AT+QFLST'\n",
    "LIST_FILES_RAM=bytes('AT+QFLST=\"RAM:*\"\\r\\n','utf-8')\n",
    "\n",
    "#GPS AT commands\n",
    "GPS_ENGINE='AT+QGPS'\n",
    "XTRA='AT+QGPSXTRA'\n",
    "XTRA_TIME='AT+QGPSXTRATIME'\n",
    "XTRA_DATA='AT+QGPSXTRADATA'\n",
    "END_SESSION='AT+QGPSEND'"
   ]
  },
  {
   "cell_type": "code",
   "execution_count": 6,
   "metadata": {},
   "outputs": [],
   "source": [
    "def encode_AT(cmd,args=None):\n",
    "    if args is not None:\n",
    "        if args != '?':\n",
    "            args='=' + args\n",
    "        cmd=cmd + args\n",
    "    cmd = cmd + '\\r\\n'\n",
    "    return bytes(cmd,'utf-8')"
   ]
  },
  {
   "cell_type": "code",
   "execution_count": 7,
   "metadata": {},
   "outputs": [],
   "source": [
    "def send_AT(cmd,args=None):\n",
    "    encoded=encode_AT(cmd,args)\n",
    "    ser.write(encoded)\n",
    "    rsp=parse_rsp()\n",
    "    return rsp"
   ]
  },
  {
   "cell_type": "code",
   "execution_count": 8,
   "metadata": {},
   "outputs": [],
   "source": [
    "def parse_rsp():\n",
    "    rsp=''\n",
    "    while (rsp.find('OK')<0 and rsp.find('CONNECT')<0 and rsp.find('ERROR')<0):\n",
    "        r=ser.read(ser.inWaiting()).decode('utf-8')\n",
    "        rsp=rsp+r\n",
    "    return rsp"
   ]
  },
  {
   "cell_type": "code",
   "execution_count": 9,
   "metadata": {},
   "outputs": [],
   "source": [
    "def send_file(filename,ramfs=False):\n",
    "    \n",
    "    with open(filename,\"rb\") as f:\n",
    "        data=f.read()\n",
    "        f.close()\n",
    "        \n",
    "    if ramfs:\n",
    "        filename = \"RAM:\"+filename\n",
    "        \n",
    "    f_args='\"' + filename + '\"'\n",
    "    s_args=str(len(data))\n",
    "    args=f_args + ',' + s_args\n",
    "    \n",
    "    rsp = send_AT(UPLOAD_FILE,args)\n",
    "    \n",
    "    if rsp.find('ERROR')>-1:\n",
    "        return rsp\n",
    "    ser.write(data)\n",
    "    rsp = rsp+parse_rsp()\n",
    "    \n",
    "    return rsp\n",
    "    "
   ]
  },
  {
   "cell_type": "code",
   "execution_count": 10,
   "metadata": {},
   "outputs": [],
   "source": [
    "def enable_xtra():\n",
    "    rsp=send_AT(XTRA,'1')\n",
    "    global port\n",
    "    global ser\n",
    "    ser.close()\n",
    "    ser=None\n",
    "    \n",
    "    process = subprocess.Popen(['disablePixieModem'], stdout=subprocess.PIPE)\n",
    "    out, err = process.communicate()\n",
    "    out = out.decode('utf-8')\n",
    "    print(out)\n",
    "    \n",
    "    process = subprocess.Popen(['enablePixieModem'], stdout=subprocess.PIPE)\n",
    "    out, err = process.communicate()\n",
    "    out = out.decode('utf-8')\n",
    "    print(out)\n",
    "    \n",
    "    print(\"Waiting for Modem, this can take a long time...\")        \n",
    "    while out.find(\"Quectel\")<0:\n",
    "        time.sleep(1)\n",
    "        process = subprocess.Popen(['mmcli','-L'], stdout=subprocess.PIPE)\n",
    "        out, err = process.communicate()\n",
    "        out = out.decode('utf-8')\n",
    "    print(\"Modem ready at: \",out)\n",
    "    \n",
    "    ser=serial.Serial(port)\n",
    "    ser.timeout=3\n",
    "    \n",
    "    print(\"Enabling AT Commands...\")\n",
    "    rsp=send_AT(ENABLE_AT)\n",
    "    if rsp.find('OK')<0:\n",
    "        return rsp\n",
    "    \n",
    "    send_AT(END_SESSION)\n",
    "    if rsp.find('OK')<0:\n",
    "        return rsp\n",
    "    \n",
    "    return rsp"
   ]
  },
  {
   "cell_type": "code",
   "execution_count": 11,
   "metadata": {},
   "outputs": [],
   "source": [
    "def configure_xtra_data():\n",
    "    print(\"Configuring XTRA TIME\")\n",
    "    utctime=datetime.utcnow()\n",
    "    formated_time = utctime.strftime(\"%Y/%m/%d,%T\")\n",
    "    rsp=send_AT(XTRA_TIME,'0,\"' + formated_time + '\",1,1,5')\n",
    "    if rsp.find('OK')<0:\n",
    "        return rsp\n",
    "    \n",
    "    print(\"Setting up XTRA DATA in Modem filesystem\")\n",
    "    rsp=send_AT(DELETE_FILE,'\"*\"')\n",
    "    if rsp.find('OK')<0:\n",
    "        return rsp\n",
    "    \n",
    "    rsp=send_file(\"xtra2.bin\")\n",
    "    if rsp.find('OK')<0:\n",
    "        return rsp\n",
    "    \n",
    "    rsp=send_AT(XTRA_DATA,'\"xtra2.bin\"')\n",
    "    \n",
    "    return rsp\n",
    "    \n",
    "    "
   ]
  },
  {
   "cell_type": "code",
   "execution_count": 12,
   "metadata": {},
   "outputs": [],
   "source": [
    "def configure_xtra():\n",
    "    rsp=send_AT(XTRA,'?')\n",
    "    if rsp.find('QGPSXTRA: 1')>-1:\n",
    "        print(\"XTRA already enabled...\")\n",
    "        return\n",
    "    \n",
    "    print(\"Enabling XTRA...\")\n",
    "    rsp = enable_xtra()\n",
    "    if rsp.find('OK')<0:\n",
    "        print(\"Errors occurred:\")\n",
    "        print(rsp)\n",
    "        return rsp\n",
    "    \n",
    "    print(\"Configuring XTRADATA...\")\n",
    "    get_xtra_file()\n",
    "    rsp=configure_xtra_data()\n",
    "    if rsp.find('OK')<0:\n",
    "        print(\"Errors occurred:\")\n",
    "        print(rsp)\n",
    "        return rsp\n",
    "    \n",
    "    print(\"XTRA Ready...\")"
   ]
  },
  {
   "cell_type": "code",
   "execution_count": 13,
   "metadata": {},
   "outputs": [],
   "source": [
    "def get_xtra_file():\n",
    "    url='http://xtrapath1.izatcloud.net/xtra2.bin'\n",
    "    filename='/home/pixiepro/xtra2.bin'\n",
    "    if not os.path.isfile(filename):\n",
    "        try:\n",
    "            print(\"Downloading XTRA file\")\n",
    "            urllib.request.urlretrieve(url, filename)\n",
    "        except:\n",
    "            print(\"Could not download xtra file.\")\n",
    "            return\n",
    "    print(\"File downloaded.\")\n",
    "    return"
   ]
  },
  {
   "cell_type": "code",
   "execution_count": 20,
   "metadata": {},
   "outputs": [],
   "source": [
    "def check_valid_file():\n",
    "    rsp=send_AT(XTRA_DATA,'?')\n",
    "    match = re.search(r'\\d{4}/\\d{2}/\\d{2}', rsp)\n",
    "    xtradate = datetime.strptime(match.group(), '%Y/%m/%d').date()\n",
    "    \n",
    "    if (datetime.utcnow().date() - xtradate).days > 7:\n",
    "        print(\"File expired, downloading again...\")\n",
    "        rsp=get_xtra_file()\n",
    "        configure_xtra_data()\n",
    "    else:\n",
    "        print(\"File is valid...\")\n",
    "        \n",
    "    print(\"XTRA Ready...\")\n",
    "    return rsp"
   ]
  },
  {
   "cell_type": "code",
   "execution_count": 15,
   "metadata": {},
   "outputs": [],
   "source": [
    "def configure_xtra_gnss():   \n",
    "    global ser\n",
    "    global port\n",
    "    port='/dev/ttyUSB2'\n",
    "    ser=serial.Serial(port)\n",
    "    ser.timeout=3\n",
    "    rsp=send_AT(ENABLE_AT)\n",
    "    configure_xtra()\n",
    "    time.sleep(3)\n",
    "    check_valid_file()\n",
    "    rsp=send_AT(GPS_ENGINE,'1,30,50,0,1')\n",
    "    "
   ]
  },
  {
   "cell_type": "code",
   "execution_count": 16,
   "metadata": {},
   "outputs": [],
   "source": [
    "if __name__ == \"__main__\" and '__file__' in globals():\n",
    "    configure_xtra_gnss()\n",
    "    exit(0)"
   ]
  }
 ],
 "metadata": {
  "kernelspec": {
   "display_name": "Python 3",
   "language": "python",
   "name": "python3"
  },
  "language_info": {
   "codemirror_mode": {
    "name": "ipython",
    "version": 3
   },
   "file_extension": ".py",
   "mimetype": "text/x-python",
   "name": "python",
   "nbconvert_exporter": "python",
   "pygments_lexer": "ipython3",
   "version": "3.7.2"
  }
 },
 "nbformat": 4,
 "nbformat_minor": 2
}
